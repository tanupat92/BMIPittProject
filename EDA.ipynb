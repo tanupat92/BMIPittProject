{
 "cells": [
  {
   "cell_type": "markdown",
   "id": "021e517c-ba6e-45f5-ab1a-605c66361630",
   "metadata": {},
   "source": [
    "# Exploratory Data Analysis\n",
    "\n",
    "FAERS drug and natural products data extracted after standardization processes to find number of mapped and unmapped strings."
   ]
  },
  {
   "cell_type": "code",
   "execution_count": 1,
   "id": "b7e20d67-bb2d-437c-991e-15701d0306a2",
   "metadata": {},
   "outputs": [],
   "source": [
    "import pandas as pd\n",
    "import numpy as np"
   ]
  },
  {
   "cell_type": "code",
   "execution_count": 2,
   "id": "709e84a3-6ae7-4b68-b2fb-3a2acae8fd71",
   "metadata": {},
   "outputs": [
    {
     "name": "stdout",
     "output_type": "stream",
     "text": [
      "<class 'pandas.core.frame.DataFrame'>\n",
      "RangeIndex: 38618311 entries, 0 to 38618310\n",
      "Data columns (total 9 columns):\n",
      " #   Column               Dtype  \n",
      "---  ------               -----  \n",
      " 0   primaryid            int64  \n",
      " 1   isr                  float64\n",
      " 2   drug_seq             int64  \n",
      " 3   role_cod             object \n",
      " 4   drug_name_original   object \n",
      " 5   lookup_value         object \n",
      " 6   concept_id           float64\n",
      " 7   update_method        object \n",
      " 8   standard_concept_id  float64\n",
      "dtypes: float64(3), int64(2), object(4)\n",
      "memory usage: 2.6+ GB\n"
     ]
    }
   ],
   "source": [
    "##raw files from FAERS and LAERS\n",
    "#Importing from only one file resulted in corrupted data with missing columns\n",
    "#primaryid - FAERS reports\n",
    "#isr - LAERS reports\n",
    "faers = pd.read_csv('data/standard_combined_drug_mapping_primaryid_202201241744.csv', low_memory=False)\n",
    "faers.info()"
   ]
  },
  {
   "cell_type": "code",
   "execution_count": 3,
   "id": "53992e30-ab90-4385-95de-9540ee54bf31",
   "metadata": {},
   "outputs": [
    {
     "name": "stdout",
     "output_type": "stream",
     "text": [
      "<class 'pandas.core.frame.DataFrame'>\n",
      "RangeIndex: 10190238 entries, 0 to 10190237\n",
      "Data columns (total 9 columns):\n",
      " #   Column               Dtype  \n",
      "---  ------               -----  \n",
      " 0   primaryid            float64\n",
      " 1   isr                  int64  \n",
      " 2   drug_seq             int64  \n",
      " 3   role_cod             object \n",
      " 4   drug_name_original   object \n",
      " 5   lookup_value         object \n",
      " 6   concept_id           float64\n",
      " 7   update_method        object \n",
      " 8   standard_concept_id  float64\n",
      "dtypes: float64(3), int64(2), object(4)\n",
      "memory usage: 699.7+ MB\n"
     ]
    }
   ],
   "source": [
    "laers = pd.read_csv('data/standard_combined_drug_mapping_isr_202201241741.csv', low_memory=False)\n",
    "laers.info()"
   ]
  },
  {
   "cell_type": "code",
   "execution_count": 4,
   "id": "bddb72cf-4eb4-464c-aa81-23fc63807f8c",
   "metadata": {},
   "outputs": [
    {
     "data": {
      "text/html": [
       "<div>\n",
       "<style scoped>\n",
       "    .dataframe tbody tr th:only-of-type {\n",
       "        vertical-align: middle;\n",
       "    }\n",
       "\n",
       "    .dataframe tbody tr th {\n",
       "        vertical-align: top;\n",
       "    }\n",
       "\n",
       "    .dataframe thead th {\n",
       "        text-align: right;\n",
       "    }\n",
       "</style>\n",
       "<table border=\"1\" class=\"dataframe\">\n",
       "  <thead>\n",
       "    <tr style=\"text-align: right;\">\n",
       "      <th></th>\n",
       "      <th>primaryid</th>\n",
       "      <th>isr</th>\n",
       "      <th>drug_seq</th>\n",
       "      <th>role_cod</th>\n",
       "      <th>drug_name_original</th>\n",
       "      <th>lookup_value</th>\n",
       "      <th>concept_id</th>\n",
       "      <th>update_method</th>\n",
       "      <th>standard_concept_id</th>\n",
       "    </tr>\n",
       "  </thead>\n",
       "  <tbody>\n",
       "  </tbody>\n",
       "</table>\n",
       "</div>"
      ],
      "text/plain": [
       "Empty DataFrame\n",
       "Columns: [primaryid, isr, drug_seq, role_cod, drug_name_original, lookup_value, concept_id, update_method, standard_concept_id]\n",
       "Index: []"
      ]
     },
     "execution_count": 4,
     "metadata": {},
     "output_type": "execute_result"
    }
   ],
   "source": [
    "#check if rows misplaced\n",
    "faers.loc[faers['isr'].notna()]"
   ]
  },
  {
   "cell_type": "code",
   "execution_count": 5,
   "id": "e693d22b-a96a-4715-b928-231c87e9b291",
   "metadata": {},
   "outputs": [
    {
     "data": {
      "text/html": [
       "<div>\n",
       "<style scoped>\n",
       "    .dataframe tbody tr th:only-of-type {\n",
       "        vertical-align: middle;\n",
       "    }\n",
       "\n",
       "    .dataframe tbody tr th {\n",
       "        vertical-align: top;\n",
       "    }\n",
       "\n",
       "    .dataframe thead th {\n",
       "        text-align: right;\n",
       "    }\n",
       "</style>\n",
       "<table border=\"1\" class=\"dataframe\">\n",
       "  <thead>\n",
       "    <tr style=\"text-align: right;\">\n",
       "      <th></th>\n",
       "      <th>primaryid</th>\n",
       "      <th>isr</th>\n",
       "      <th>drug_seq</th>\n",
       "      <th>role_cod</th>\n",
       "      <th>drug_name_original</th>\n",
       "      <th>lookup_value</th>\n",
       "      <th>concept_id</th>\n",
       "      <th>update_method</th>\n",
       "      <th>standard_concept_id</th>\n",
       "    </tr>\n",
       "  </thead>\n",
       "  <tbody>\n",
       "  </tbody>\n",
       "</table>\n",
       "</div>"
      ],
      "text/plain": [
       "Empty DataFrame\n",
       "Columns: [primaryid, isr, drug_seq, role_cod, drug_name_original, lookup_value, concept_id, update_method, standard_concept_id]\n",
       "Index: []"
      ]
     },
     "execution_count": 5,
     "metadata": {},
     "output_type": "execute_result"
    }
   ],
   "source": [
    "laers.loc[laers['primaryid'].notna()]"
   ]
  },
  {
   "cell_type": "code",
   "execution_count": null,
   "id": "9d7e4cd3-de69-442d-8d37-b7dc56763ace",
   "metadata": {},
   "outputs": [],
   "source": [
    "##Find coverage of reports and unique drug strings (mapped and unmapped) - FAERS + LAERS\n",
    "##Combine for analysis"
   ]
  },
  {
   "cell_type": "code",
   "execution_count": 6,
   "id": "16cf8ba9-1c92-4e9d-b624-f8480e33915d",
   "metadata": {},
   "outputs": [
    {
     "data": {
      "text/plain": [
       "10590419"
      ]
     },
     "execution_count": 6,
     "metadata": {},
     "output_type": "execute_result"
    }
   ],
   "source": [
    "id_faers = faers['primaryid'].unique()\n",
    "len(id_faers)"
   ]
  },
  {
   "cell_type": "code",
   "execution_count": 7,
   "id": "9170f405-a8f0-4263-bb45-11af551fd342",
   "metadata": {},
   "outputs": [
    {
     "data": {
      "text/plain": [
       "2996985"
      ]
     },
     "execution_count": 7,
     "metadata": {},
     "output_type": "execute_result"
    }
   ],
   "source": [
    "id_laers = laers['isr'].unique()\n",
    "len(id_laers)"
   ]
  },
  {
   "cell_type": "code",
   "execution_count": 8,
   "id": "b31418c8-757d-495c-8640-5000315c2e60",
   "metadata": {},
   "outputs": [],
   "source": [
    "##count unique drug strings\n",
    "df = pd.concat([faers, laers], ignore_index=True)"
   ]
  },
  {
   "cell_type": "code",
   "execution_count": 13,
   "id": "18cea8fb-6e29-450c-b30d-a4d917422ef7",
   "metadata": {},
   "outputs": [
    {
     "name": "stdout",
     "output_type": "stream",
     "text": [
      "<class 'pandas.core.frame.DataFrame'>\n",
      "RangeIndex: 48808549 entries, 0 to 48808548\n",
      "Data columns (total 9 columns):\n",
      " #   Column               Dtype  \n",
      "---  ------               -----  \n",
      " 0   primaryid            float64\n",
      " 1   isr                  float64\n",
      " 2   drug_seq             int64  \n",
      " 3   role_cod             object \n",
      " 4   drug_name_original   object \n",
      " 5   lookup_value         object \n",
      " 6   concept_id           float64\n",
      " 7   update_method        object \n",
      " 8   standard_concept_id  float64\n",
      "dtypes: float64(4), int64(1), object(4)\n",
      "memory usage: 3.3+ GB\n"
     ]
    }
   ],
   "source": [
    "df.info()"
   ]
  },
  {
   "cell_type": "code",
   "execution_count": 12,
   "id": "9fa716be-ed8c-40d7-bb78-f845f8201c92",
   "metadata": {},
   "outputs": [
    {
     "data": {
      "text/plain": [
       "48808549"
      ]
     },
     "execution_count": 12,
     "metadata": {},
     "output_type": "execute_result"
    }
   ],
   "source": [
    "drugs_all = df['drug_name_original'].tolist()\n",
    "len(drugs_all)"
   ]
  },
  {
   "cell_type": "code",
   "execution_count": 14,
   "id": "984646df-e259-446a-8727-b6fcaeb4b40f",
   "metadata": {},
   "outputs": [
    {
     "data": {
      "text/plain": [
       "832031"
      ]
     },
     "execution_count": 14,
     "metadata": {},
     "output_type": "execute_result"
    }
   ],
   "source": [
    "drugs_all_unique = list(set(drugs_all))\n",
    "len(drugs_all_unique)"
   ]
  },
  {
   "cell_type": "code",
   "execution_count": 11,
   "id": "106b6f48-ff2d-447d-b9d2-5d7c8f2a5826",
   "metadata": {},
   "outputs": [
    {
     "data": {
      "text/plain": [
       "[nan,\n",
       " 'FLUOXETINE --/--/2007',\n",
       " 'CHLOPROTHIXENE',\n",
       " 'HYDROCHLOROT 12.5 MG',\n",
       " 'PUMPKIN SEED OIL                   /01517303/',\n",
       " 'EXACIN [ISEPAMICIN SULFATE]',\n",
       " 'CALCIUM 500 TAB + D',\n",
       " 'Depo-Teststerone',\n",
       " 'Rozavel',\n",
       " 'LEVEMIR PEN INSULIN',\n",
       " 'apixaban 2.5mg PO BID',\n",
       " 'zolendronate',\n",
       " 'RIBAPAK (1600 MG, 1200 MG) (NOT SPECIFIED)',\n",
       " 'NOVOLOG N',\n",
       " 'Felodipin Actavis',\n",
       " ' D AND CALCIUM',\n",
       " 'ADVAIR DISCUS 50/250',\n",
       " 'lilly basal',\n",
       " 'PROLAIR (BECLOMETASONE)',\n",
       " 'ETHICAL NUTRIENTS IBS SUPPORT',\n",
       " 'BUSCOPAN(hyoscine butylbromide)',\n",
       " 'CLOPIDOGREL TABLET FO  75MG (WATERSTOFSULFAAT)',\n",
       " 'DICLOFENAC?NATRIUM / Brand name not specified',\n",
       " 'ZYCLORAN',\n",
       " 'Hydecodone',\n",
       " 'SELECTIVE SEROTONIN REUPTAKE INHIBITOR',\n",
       " 'SIFROL (PRAMIPEXOLE DIHYCHLORIDE) (TA) (PRAMIPEXOLE)',\n",
       " 'MIRTAZAPINE Tablet, 30 mg (milligram',\n",
       " 'MEGESTROL AC SUS 40MG/ML',\n",
       " 'DRAMIN (DIMENHYDRINATE)',\n",
       " 'Proctozone-HC',\n",
       " 'A LOT OF UNKNOWN MEDICATIONS',\n",
       " 'ARGENTUM NITRICUM 9 CH (OTHER THERAPEUTIC PRODUCTS) (NULL)',\n",
       " 'oxycodone 30mg',\n",
       " 'TAVASTIN',\n",
       " 'VITAMIN?E [TOCOPHEROL]',\n",
       " 'OTC GENERIC NEXIUM',\n",
       " 'Chibro Proscar',\n",
       " 'DONEAPEZIL',\n",
       " 'CYMGEN',\n",
       " 'PresarVision',\n",
       " 'Sinemet / carbidopa 25 mg + levodopa 250 mg',\n",
       " 'LANTUS 100 Unit?s/ml, solution injectable en cartouche',\n",
       " 'DAC BASISCREME',\n",
       " 'GINKGO BILIBO',\n",
       " 'Filgrastine',\n",
       " 'FARMORUBICINA',\n",
       " 'PRAREDUCT (PRAVASTATIN SODIUM) (40 MILLIGRAM) (PRAVASTATIN SODIUM)',\n",
       " 'Lisinoipril-Hydrocholorothiazide']"
      ]
     },
     "execution_count": 11,
     "metadata": {},
     "output_type": "execute_result"
    }
   ],
   "source": [
    "drugs_all_unique[1:50]"
   ]
  },
  {
   "cell_type": "code",
   "execution_count": 15,
   "id": "7a1115a8-8ce1-4d52-830f-1f225326be5e",
   "metadata": {},
   "outputs": [
    {
     "name": "stdout",
     "output_type": "stream",
     "text": [
      "<class 'pandas.core.frame.DataFrame'>\n",
      "RangeIndex: 48808549 entries, 0 to 48808548\n",
      "Data columns (total 9 columns):\n",
      " #   Column               Dtype  \n",
      "---  ------               -----  \n",
      " 0   primaryid            float64\n",
      " 1   isr                  float64\n",
      " 2   drug_seq             int64  \n",
      " 3   role_cod             object \n",
      " 4   drug_name_original   object \n",
      " 5   lookup_value         object \n",
      " 6   concept_id           float64\n",
      " 7   update_method        object \n",
      " 8   standard_concept_id  float64\n",
      "dtypes: float64(4), int64(1), object(4)\n",
      "memory usage: 3.3+ GB\n"
     ]
    }
   ],
   "source": [
    "df.info()"
   ]
  },
  {
   "cell_type": "code",
   "execution_count": 16,
   "id": "5804ea81-7bbc-4ffa-8bed-e617ff7fb5dd",
   "metadata": {},
   "outputs": [],
   "source": [
    "#divide into mapped and unmapped strings\n",
    "df_map = df.loc[df['concept_id'].notna()]\n",
    "df_unmap = df.loc[df['concept_id'].isna()]"
   ]
  },
  {
   "cell_type": "code",
   "execution_count": 17,
   "id": "afaa9e84-dcdc-479f-b255-aed127119529",
   "metadata": {},
   "outputs": [
    {
     "name": "stdout",
     "output_type": "stream",
     "text": [
      "<class 'pandas.core.frame.DataFrame'>\n",
      "RangeIndex: 46164530 entries, 0 to 46164529\n",
      "Data columns (total 9 columns):\n",
      " #   Column               Dtype  \n",
      "---  ------               -----  \n",
      " 0   primaryid            float64\n",
      " 1   isr                  float64\n",
      " 2   drug_seq             int64  \n",
      " 3   role_cod             object \n",
      " 4   drug_name_original   object \n",
      " 5   lookup_value         object \n",
      " 6   concept_id           float64\n",
      " 7   update_method        object \n",
      " 8   standard_concept_id  float64\n",
      "dtypes: float64(4), int64(1), object(4)\n",
      "memory usage: 3.1+ GB\n"
     ]
    }
   ],
   "source": [
    "df_map = df_map.reset_index(drop=True)\n",
    "df_map.info()"
   ]
  },
  {
   "cell_type": "code",
   "execution_count": 18,
   "id": "bc670b85-e429-46ad-8a93-758386a0eb36",
   "metadata": {},
   "outputs": [
    {
     "name": "stdout",
     "output_type": "stream",
     "text": [
      "<class 'pandas.core.frame.DataFrame'>\n",
      "RangeIndex: 2644019 entries, 0 to 2644018\n",
      "Data columns (total 9 columns):\n",
      " #   Column               Dtype  \n",
      "---  ------               -----  \n",
      " 0   primaryid            float64\n",
      " 1   isr                  float64\n",
      " 2   drug_seq             int64  \n",
      " 3   role_cod             object \n",
      " 4   drug_name_original   object \n",
      " 5   lookup_value         object \n",
      " 6   concept_id           float64\n",
      " 7   update_method        object \n",
      " 8   standard_concept_id  float64\n",
      "dtypes: float64(4), int64(1), object(4)\n",
      "memory usage: 181.6+ MB\n"
     ]
    }
   ],
   "source": [
    "df_unmap = df_unmap.reset_index(drop=True)\n",
    "df_unmap.info()"
   ]
  },
  {
   "cell_type": "code",
   "execution_count": 19,
   "id": "a7de6a01-2f74-49ae-9c49-c57984442880",
   "metadata": {},
   "outputs": [
    {
     "data": {
      "text/html": [
       "<div>\n",
       "<style scoped>\n",
       "    .dataframe tbody tr th:only-of-type {\n",
       "        vertical-align: middle;\n",
       "    }\n",
       "\n",
       "    .dataframe tbody tr th {\n",
       "        vertical-align: top;\n",
       "    }\n",
       "\n",
       "    .dataframe thead th {\n",
       "        text-align: right;\n",
       "    }\n",
       "</style>\n",
       "<table border=\"1\" class=\"dataframe\">\n",
       "  <thead>\n",
       "    <tr style=\"text-align: right;\">\n",
       "      <th></th>\n",
       "      <th>primaryid</th>\n",
       "      <th>isr</th>\n",
       "      <th>drug_seq</th>\n",
       "      <th>role_cod</th>\n",
       "      <th>drug_name_original</th>\n",
       "      <th>lookup_value</th>\n",
       "      <th>concept_id</th>\n",
       "      <th>update_method</th>\n",
       "      <th>standard_concept_id</th>\n",
       "    </tr>\n",
       "  </thead>\n",
       "  <tbody>\n",
       "    <tr>\n",
       "      <th>0</th>\n",
       "      <td>1.000332e+08</td>\n",
       "      <td>NaN</td>\n",
       "      <td>11</td>\n",
       "      <td>C</td>\n",
       "      <td>Baktar</td>\n",
       "      <td>NaN</td>\n",
       "      <td>NaN</td>\n",
       "      <td>NaN</td>\n",
       "      <td>NaN</td>\n",
       "    </tr>\n",
       "    <tr>\n",
       "      <th>1</th>\n",
       "      <td>1.000332e+08</td>\n",
       "      <td>NaN</td>\n",
       "      <td>13</td>\n",
       "      <td>C</td>\n",
       "      <td>chinese medicine</td>\n",
       "      <td>NaN</td>\n",
       "      <td>NaN</td>\n",
       "      <td>NaN</td>\n",
       "      <td>NaN</td>\n",
       "    </tr>\n",
       "    <tr>\n",
       "      <th>2</th>\n",
       "      <td>1.000333e+09</td>\n",
       "      <td>NaN</td>\n",
       "      <td>10</td>\n",
       "      <td>C</td>\n",
       "      <td>IDROCLOROTIAZ</td>\n",
       "      <td>NaN</td>\n",
       "      <td>NaN</td>\n",
       "      <td>NaN</td>\n",
       "      <td>NaN</td>\n",
       "    </tr>\n",
       "    <tr>\n",
       "      <th>3</th>\n",
       "      <td>1.000333e+09</td>\n",
       "      <td>NaN</td>\n",
       "      <td>4</td>\n",
       "      <td>C</td>\n",
       "      <td>INSULINA GLULISINA</td>\n",
       "      <td>NaN</td>\n",
       "      <td>NaN</td>\n",
       "      <td>NaN</td>\n",
       "      <td>NaN</td>\n",
       "    </tr>\n",
       "    <tr>\n",
       "      <th>4</th>\n",
       "      <td>1.000333e+09</td>\n",
       "      <td>NaN</td>\n",
       "      <td>9</td>\n",
       "      <td>C</td>\n",
       "      <td>IDROCLOROTIAZ</td>\n",
       "      <td>NaN</td>\n",
       "      <td>NaN</td>\n",
       "      <td>NaN</td>\n",
       "      <td>NaN</td>\n",
       "    </tr>\n",
       "  </tbody>\n",
       "</table>\n",
       "</div>"
      ],
      "text/plain": [
       "      primaryid  isr  drug_seq role_cod  drug_name_original lookup_value  \\\n",
       "0  1.000332e+08  NaN        11        C              Baktar          NaN   \n",
       "1  1.000332e+08  NaN        13        C    chinese medicine          NaN   \n",
       "2  1.000333e+09  NaN        10        C       IDROCLOROTIAZ          NaN   \n",
       "3  1.000333e+09  NaN         4        C  INSULINA GLULISINA          NaN   \n",
       "4  1.000333e+09  NaN         9        C       IDROCLOROTIAZ          NaN   \n",
       "\n",
       "   concept_id update_method  standard_concept_id  \n",
       "0         NaN           NaN                  NaN  \n",
       "1         NaN           NaN                  NaN  \n",
       "2         NaN           NaN                  NaN  \n",
       "3         NaN           NaN                  NaN  \n",
       "4         NaN           NaN                  NaN  "
      ]
     },
     "execution_count": 19,
     "metadata": {},
     "output_type": "execute_result"
    }
   ],
   "source": [
    "df_unmap.head()"
   ]
  },
  {
   "cell_type": "code",
   "execution_count": 20,
   "id": "4c4f8478-6ce6-40dd-bf5f-4517a27ec9ca",
   "metadata": {},
   "outputs": [
    {
     "data": {
      "text/html": [
       "<div>\n",
       "<style scoped>\n",
       "    .dataframe tbody tr th:only-of-type {\n",
       "        vertical-align: middle;\n",
       "    }\n",
       "\n",
       "    .dataframe tbody tr th {\n",
       "        vertical-align: top;\n",
       "    }\n",
       "\n",
       "    .dataframe thead th {\n",
       "        text-align: right;\n",
       "    }\n",
       "</style>\n",
       "<table border=\"1\" class=\"dataframe\">\n",
       "  <thead>\n",
       "    <tr style=\"text-align: right;\">\n",
       "      <th></th>\n",
       "      <th>primaryid</th>\n",
       "      <th>isr</th>\n",
       "      <th>drug_seq</th>\n",
       "      <th>role_cod</th>\n",
       "      <th>drug_name_original</th>\n",
       "      <th>lookup_value</th>\n",
       "      <th>concept_id</th>\n",
       "      <th>update_method</th>\n",
       "      <th>standard_concept_id</th>\n",
       "    </tr>\n",
       "  </thead>\n",
       "  <tbody>\n",
       "    <tr>\n",
       "      <th>0</th>\n",
       "      <td>147383531.0</td>\n",
       "      <td>NaN</td>\n",
       "      <td>11</td>\n",
       "      <td>C</td>\n",
       "      <td>0.0375 ESTRADIOL TRANSDERMAL SYSTEM</td>\n",
       "      <td>ESTRADIOL</td>\n",
       "      <td>1548195.0</td>\n",
       "      <td>single ingredient match</td>\n",
       "      <td>1548195.0</td>\n",
       "    </tr>\n",
       "    <tr>\n",
       "      <th>1</th>\n",
       "      <td>182024081.0</td>\n",
       "      <td>NaN</td>\n",
       "      <td>1</td>\n",
       "      <td>PS</td>\n",
       "      <td>0.09% NORMAL SALINE</td>\n",
       "      <td>NORMAL SALINE</td>\n",
       "      <td>19011130.0</td>\n",
       "      <td>single ingredient match</td>\n",
       "      <td>19011130.0</td>\n",
       "    </tr>\n",
       "    <tr>\n",
       "      <th>2</th>\n",
       "      <td>110049491.0</td>\n",
       "      <td>NaN</td>\n",
       "      <td>1</td>\n",
       "      <td>PS</td>\n",
       "      <td>0.12% CHLORHEXIDINE</td>\n",
       "      <td>CHLORHEXIDINE</td>\n",
       "      <td>1790812.0</td>\n",
       "      <td>single ingredient match</td>\n",
       "      <td>1790812.0</td>\n",
       "    </tr>\n",
       "    <tr>\n",
       "      <th>3</th>\n",
       "      <td>143307352.0</td>\n",
       "      <td>NaN</td>\n",
       "      <td>3</td>\n",
       "      <td>C</td>\n",
       "      <td>0.15% brimonidine</td>\n",
       "      <td>BRIMONIDINE</td>\n",
       "      <td>915542.0</td>\n",
       "      <td>single ingredient match</td>\n",
       "      <td>915542.0</td>\n",
       "    </tr>\n",
       "    <tr>\n",
       "      <th>4</th>\n",
       "      <td>131627711.0</td>\n",
       "      <td>NaN</td>\n",
       "      <td>1</td>\n",
       "      <td>PS</td>\n",
       "      <td>.01 MG CLONIDINE</td>\n",
       "      <td>CLONIDINE</td>\n",
       "      <td>1398937.0</td>\n",
       "      <td>single ingredient match</td>\n",
       "      <td>1398937.0</td>\n",
       "    </tr>\n",
       "  </tbody>\n",
       "</table>\n",
       "</div>"
      ],
      "text/plain": [
       "     primaryid  isr  drug_seq role_cod                   drug_name_original  \\\n",
       "0  147383531.0  NaN        11        C  0.0375 ESTRADIOL TRANSDERMAL SYSTEM   \n",
       "1  182024081.0  NaN         1       PS                  0.09% NORMAL SALINE   \n",
       "2  110049491.0  NaN         1       PS                  0.12% CHLORHEXIDINE   \n",
       "3  143307352.0  NaN         3        C                    0.15% brimonidine   \n",
       "4  131627711.0  NaN         1       PS                     .01 MG CLONIDINE   \n",
       "\n",
       "    lookup_value  concept_id            update_method  standard_concept_id  \n",
       "0      ESTRADIOL   1548195.0  single ingredient match            1548195.0  \n",
       "1  NORMAL SALINE  19011130.0  single ingredient match           19011130.0  \n",
       "2  CHLORHEXIDINE   1790812.0  single ingredient match            1790812.0  \n",
       "3    BRIMONIDINE    915542.0  single ingredient match             915542.0  \n",
       "4      CLONIDINE   1398937.0  single ingredient match            1398937.0  "
      ]
     },
     "execution_count": 20,
     "metadata": {},
     "output_type": "execute_result"
    }
   ],
   "source": [
    "df_map.head()"
   ]
  },
  {
   "cell_type": "code",
   "execution_count": 21,
   "id": "1822ad98-7d2d-4f7e-83a4-b7d6263d2634",
   "metadata": {},
   "outputs": [
    {
     "data": {
      "text/plain": [
       "379079"
      ]
     },
     "execution_count": 21,
     "metadata": {},
     "output_type": "execute_result"
    }
   ],
   "source": [
    "##count unique drug strings in both\n",
    "drug_map = df_map['drug_name_original'].unique()\n",
    "len(drug_map)"
   ]
  },
  {
   "cell_type": "code",
   "execution_count": 22,
   "id": "74303469-ee2d-41f1-838a-601ca97fde23",
   "metadata": {},
   "outputs": [
    {
     "data": {
      "text/plain": [
       "452953"
      ]
     },
     "execution_count": 22,
     "metadata": {},
     "output_type": "execute_result"
    }
   ],
   "source": [
    "drug_unmap = df_unmap['drug_name_original'].unique()\n",
    "len(drug_unmap)"
   ]
  },
  {
   "cell_type": "code",
   "execution_count": 35,
   "id": "23ad1727-5677-4cc4-8958-413a8c7ea450",
   "metadata": {},
   "outputs": [
    {
     "data": {
      "text/plain": [
       "(46164530, 9)"
      ]
     },
     "execution_count": 35,
     "metadata": {},
     "output_type": "execute_result"
    }
   ],
   "source": [
    "df_map.shape"
   ]
  },
  {
   "cell_type": "code",
   "execution_count": 37,
   "id": "8a41dd6a-4fa3-4d02-8741-35bd50870f97",
   "metadata": {},
   "outputs": [
    {
     "data": {
      "text/plain": [
       "(2644019, 9)"
      ]
     },
     "execution_count": 37,
     "metadata": {},
     "output_type": "execute_result"
    }
   ],
   "source": [
    "df_unmap.shape"
   ]
  },
  {
   "cell_type": "code",
   "execution_count": 29,
   "id": "f19cfbec-4e74-4045-bd00-3e4b29374d7f",
   "metadata": {},
   "outputs": [
    {
     "data": {
      "text/plain": [
       "10423131"
      ]
     },
     "execution_count": 29,
     "metadata": {},
     "output_type": "execute_result"
    }
   ],
   "source": [
    "##find coverage of mapped and unmapped reports - or complete vs incomplete where\n",
    "#complete = all drug strings in report are mapped\n",
    "#incomplete = one or more drug strings in report are unmapped\n",
    "pid_map = df_map['primaryid'].unique()\n",
    "len(pid_map)"
   ]
  },
  {
   "cell_type": "code",
   "execution_count": 31,
   "id": "4b45a13d-f57d-492a-9722-15e6ed95207f",
   "metadata": {},
   "outputs": [
    {
     "data": {
      "text/plain": [
       "1199302"
      ]
     },
     "execution_count": 31,
     "metadata": {},
     "output_type": "execute_result"
    }
   ],
   "source": [
    "pid_unmap = df_unmap['primaryid'].unique()\n",
    "len(pid_unmap)"
   ]
  },
  {
   "cell_type": "code",
   "execution_count": 30,
   "id": "4f0c377e-1811-4585-9934-7d059ea852b7",
   "metadata": {},
   "outputs": [
    {
     "data": {
      "text/plain": [
       "2938434"
      ]
     },
     "execution_count": 30,
     "metadata": {},
     "output_type": "execute_result"
    }
   ],
   "source": [
    "isr_map = df_map['isr'].unique()\n",
    "len(isr_map)"
   ]
  },
  {
   "cell_type": "code",
   "execution_count": 32,
   "id": "9e49b9cb-f342-40ae-9107-26e03e8038f6",
   "metadata": {},
   "outputs": [
    {
     "data": {
      "text/plain": [
       "524406"
      ]
     },
     "execution_count": 32,
     "metadata": {},
     "output_type": "execute_result"
    }
   ],
   "source": [
    "isr_unmap = df_unmap['isr'].unique()\n",
    "len(isr_unmap)"
   ]
  },
  {
   "cell_type": "code",
   "execution_count": 33,
   "id": "0fa800be-2d60-416f-9645-0beaf181bf58",
   "metadata": {},
   "outputs": [
    {
     "data": {
      "text/plain": [
       "1032012"
      ]
     },
     "execution_count": 33,
     "metadata": {},
     "output_type": "execute_result"
    }
   ],
   "source": [
    "#find intersection of mapped and unmapped reports\n",
    "pid_intersect = np.intersect1d(pid_map, pid_unmap)\n",
    "len(pid_intersect)"
   ]
  },
  {
   "cell_type": "code",
   "execution_count": 34,
   "id": "a40d64ba-387e-4172-86c5-9a005b574243",
   "metadata": {},
   "outputs": [
    {
     "data": {
      "text/plain": [
       "465853"
      ]
     },
     "execution_count": 34,
     "metadata": {},
     "output_type": "execute_result"
    }
   ],
   "source": [
    "isr_intersect = np.intersect1d(isr_map, isr_unmap)\n",
    "len(isr_intersect)"
   ]
  },
  {
   "cell_type": "code",
   "execution_count": 4,
   "id": "a236b2a6-2ca9-4fe7-8afc-c54fbba159ac",
   "metadata": {},
   "outputs": [
    {
     "name": "stdout",
     "output_type": "stream",
     "text": [
      "<class 'pandas.core.frame.DataFrame'>\n",
      "RangeIndex: 569525 entries, 0 to 569524\n",
      "Data columns (total 1 columns):\n",
      " #   Column              Non-Null Count   Dtype \n",
      "---  ------              --------------   ----- \n",
      " 0   drug_name_original  412264 non-null  object\n",
      "dtypes: object(1)\n",
      "memory usage: 4.3+ MB\n"
     ]
    }
   ],
   "source": [
    "dfup = pd.read_csv('data/upper_unmap_orig_drug_names_202201201812.csv')\n",
    "dfup.info()"
   ]
  },
  {
   "cell_type": "code",
   "execution_count": 5,
   "id": "96eecbd6-c031-4b04-942b-3fd1accb5fb3",
   "metadata": {},
   "outputs": [
    {
     "name": "stdout",
     "output_type": "stream",
     "text": [
      "<class 'pandas.core.frame.DataFrame'>\n",
      "RangeIndex: 6195 entries, 0 to 6194\n",
      "Data columns (total 2 columns):\n",
      " #   Column      Non-Null Count  Dtype \n",
      "---  ------      --------------  ----- \n",
      " 0   concept_id  6195 non-null   int64 \n",
      " 1   np_name     6195 non-null   object\n",
      "dtypes: int64(1), object(1)\n",
      "memory usage: 96.9+ KB\n"
     ]
    }
   ],
   "source": [
    "dfnp = pd.read_csv('data/np_names_clean_202201201810.csv')\n",
    "dfnp.info()"
   ]
  }
 ],
 "metadata": {
  "kernelspec": {
   "display_name": "Python 3 (ipykernel)",
   "language": "python",
   "name": "python3"
  },
  "language_info": {
   "codemirror_mode": {
    "name": "ipython",
    "version": 3
   },
   "file_extension": ".py",
   "mimetype": "text/x-python",
   "name": "python",
   "nbconvert_exporter": "python",
   "pygments_lexer": "ipython3",
   "version": "3.8.0"
  }
 },
 "nbformat": 4,
 "nbformat_minor": 5
}
