{
 "cells": [
  {
   "cell_type": "markdown",
   "id": "021e517c-ba6e-45f5-ab1a-605c66361630",
   "metadata": {},
   "source": [
    "# Exploratory Data Analysis\n",
    "\n",
    "FAERS drug and natural products data extracted after standardization processes to find number of mapped and unmapped strings."
   ]
  },
  {
   "cell_type": "code",
   "execution_count": 1,
   "id": "b7e20d67-bb2d-437c-991e-15701d0306a2",
   "metadata": {},
   "outputs": [],
   "source": [
    "import pandas as pd\n",
    "import numpy as np"
   ]
  },
  {
   "cell_type": "code",
   "execution_count": 2,
   "id": "709e84a3-6ae7-4b68-b2fb-3a2acae8fd71",
   "metadata": {},
   "outputs": [
    {
     "name": "stdout",
     "output_type": "stream",
     "text": [
      "<class 'pandas.core.frame.DataFrame'>\n",
      "RangeIndex: 38618311 entries, 0 to 38618310\n",
      "Data columns (total 9 columns):\n",
      " #   Column               Dtype  \n",
      "---  ------               -----  \n",
      " 0   primaryid            int64  \n",
      " 1   isr                  float64\n",
      " 2   drug_seq             int64  \n",
      " 3   role_cod             object \n",
      " 4   drug_name_original   object \n",
      " 5   lookup_value         object \n",
      " 6   concept_id           float64\n",
      " 7   update_method        object \n",
      " 8   standard_concept_id  float64\n",
      "dtypes: float64(3), int64(2), object(4)\n",
      "memory usage: 2.6+ GB\n"
     ]
    }
   ],
   "source": [
    "##raw files from FAERS and LAERS\n",
    "#Importing from only one file resulted in corrupted data with missing columns\n",
    "#primaryid - FAERS reports\n",
    "#isr - LAERS reports\n",
    "faers = pd.read_csv('data/standard_combined_drug_mapping_202201311520.csv', low_memory=False)\n",
    "faers.info()"
   ]
  },
  {
   "cell_type": "code",
   "execution_count": 3,
   "id": "53992e30-ab90-4385-95de-9540ee54bf31",
   "metadata": {},
   "outputs": [
    {
     "name": "stdout",
     "output_type": "stream",
     "text": [
      "<class 'pandas.core.frame.DataFrame'>\n",
      "RangeIndex: 10190238 entries, 0 to 10190237\n",
      "Data columns (total 9 columns):\n",
      " #   Column               Dtype  \n",
      "---  ------               -----  \n",
      " 0   primaryid            float64\n",
      " 1   isr                  int64  \n",
      " 2   drug_seq             int64  \n",
      " 3   role_cod             object \n",
      " 4   drug_name_original   object \n",
      " 5   lookup_value         object \n",
      " 6   concept_id           float64\n",
      " 7   update_method        object \n",
      " 8   standard_concept_id  float64\n",
      "dtypes: float64(3), int64(2), object(4)\n",
      "memory usage: 699.7+ MB\n"
     ]
    }
   ],
   "source": [
    "laers = pd.read_csv('data/standard_combined_drug_mapping_202201311525.csv', low_memory=False)\n",
    "laers.info()"
   ]
  },
  {
   "cell_type": "code",
   "execution_count": 4,
   "id": "bddb72cf-4eb4-464c-aa81-23fc63807f8c",
   "metadata": {},
   "outputs": [
    {
     "data": {
      "text/html": [
       "<div>\n",
       "<style scoped>\n",
       "    .dataframe tbody tr th:only-of-type {\n",
       "        vertical-align: middle;\n",
       "    }\n",
       "\n",
       "    .dataframe tbody tr th {\n",
       "        vertical-align: top;\n",
       "    }\n",
       "\n",
       "    .dataframe thead th {\n",
       "        text-align: right;\n",
       "    }\n",
       "</style>\n",
       "<table border=\"1\" class=\"dataframe\">\n",
       "  <thead>\n",
       "    <tr style=\"text-align: right;\">\n",
       "      <th></th>\n",
       "      <th>primaryid</th>\n",
       "      <th>isr</th>\n",
       "      <th>drug_seq</th>\n",
       "      <th>role_cod</th>\n",
       "      <th>drug_name_original</th>\n",
       "      <th>lookup_value</th>\n",
       "      <th>concept_id</th>\n",
       "      <th>update_method</th>\n",
       "      <th>standard_concept_id</th>\n",
       "    </tr>\n",
       "  </thead>\n",
       "  <tbody>\n",
       "  </tbody>\n",
       "</table>\n",
       "</div>"
      ],
      "text/plain": [
       "Empty DataFrame\n",
       "Columns: [primaryid, isr, drug_seq, role_cod, drug_name_original, lookup_value, concept_id, update_method, standard_concept_id]\n",
       "Index: []"
      ]
     },
     "execution_count": 4,
     "metadata": {},
     "output_type": "execute_result"
    }
   ],
   "source": [
    "#check if rows misplaced\n",
    "faers.loc[faers['isr'].notna()]"
   ]
  },
  {
   "cell_type": "code",
   "execution_count": 5,
   "id": "e693d22b-a96a-4715-b928-231c87e9b291",
   "metadata": {},
   "outputs": [
    {
     "data": {
      "text/html": [
       "<div>\n",
       "<style scoped>\n",
       "    .dataframe tbody tr th:only-of-type {\n",
       "        vertical-align: middle;\n",
       "    }\n",
       "\n",
       "    .dataframe tbody tr th {\n",
       "        vertical-align: top;\n",
       "    }\n",
       "\n",
       "    .dataframe thead th {\n",
       "        text-align: right;\n",
       "    }\n",
       "</style>\n",
       "<table border=\"1\" class=\"dataframe\">\n",
       "  <thead>\n",
       "    <tr style=\"text-align: right;\">\n",
       "      <th></th>\n",
       "      <th>primaryid</th>\n",
       "      <th>isr</th>\n",
       "      <th>drug_seq</th>\n",
       "      <th>role_cod</th>\n",
       "      <th>drug_name_original</th>\n",
       "      <th>lookup_value</th>\n",
       "      <th>concept_id</th>\n",
       "      <th>update_method</th>\n",
       "      <th>standard_concept_id</th>\n",
       "    </tr>\n",
       "  </thead>\n",
       "  <tbody>\n",
       "  </tbody>\n",
       "</table>\n",
       "</div>"
      ],
      "text/plain": [
       "Empty DataFrame\n",
       "Columns: [primaryid, isr, drug_seq, role_cod, drug_name_original, lookup_value, concept_id, update_method, standard_concept_id]\n",
       "Index: []"
      ]
     },
     "execution_count": 5,
     "metadata": {},
     "output_type": "execute_result"
    }
   ],
   "source": [
    "laers.loc[laers['primaryid'].notna()]"
   ]
  },
  {
   "cell_type": "code",
   "execution_count": 20,
   "id": "a338819b-66ba-4ece-b706-38dcc1b0a6ac",
   "metadata": {},
   "outputs": [
    {
     "data": {
      "text/plain": [
       "(1330, 9)"
      ]
     },
     "execution_count": 20,
     "metadata": {},
     "output_type": "execute_result"
    }
   ],
   "source": [
    "faers.loc[faers['drug_name_original'].isna()].shape"
   ]
  },
  {
   "cell_type": "code",
   "execution_count": 17,
   "id": "91ea35fe-c054-4968-afdd-417e371f8535",
   "metadata": {},
   "outputs": [
    {
     "data": {
      "text/plain": [
       "(28, 9)"
      ]
     },
     "execution_count": 17,
     "metadata": {},
     "output_type": "execute_result"
    }
   ],
   "source": [
    "laers.loc[laers['drug_name_original'].isna()].shape"
   ]
  },
  {
   "cell_type": "code",
   "execution_count": null,
   "id": "135478be-2ccb-4b7c-8f20-0ab8451ff87a",
   "metadata": {},
   "outputs": [],
   "source": []
  },
  {
   "cell_type": "code",
   "execution_count": 8,
   "id": "9d7e4cd3-de69-442d-8d37-b7dc56763ace",
   "metadata": {},
   "outputs": [],
   "source": [
    "##Find coverage of reports and unique drug strings (mapped and unmapped) - FAERS + LAERS\n",
    "##Combine for analysis"
   ]
  },
  {
   "cell_type": "code",
   "execution_count": 6,
   "id": "16cf8ba9-1c92-4e9d-b624-f8480e33915d",
   "metadata": {},
   "outputs": [
    {
     "data": {
      "text/plain": [
       "10590419"
      ]
     },
     "execution_count": 6,
     "metadata": {},
     "output_type": "execute_result"
    }
   ],
   "source": [
    "id_faers = faers['primaryid'].unique()\n",
    "len(id_faers)"
   ]
  },
  {
   "cell_type": "code",
   "execution_count": 7,
   "id": "9170f405-a8f0-4263-bb45-11af551fd342",
   "metadata": {},
   "outputs": [
    {
     "data": {
      "text/plain": [
       "2996985"
      ]
     },
     "execution_count": 7,
     "metadata": {},
     "output_type": "execute_result"
    }
   ],
   "source": [
    "id_laers = laers['isr'].unique()\n",
    "len(id_laers)"
   ]
  },
  {
   "cell_type": "code",
   "execution_count": 8,
   "id": "b31418c8-757d-495c-8640-5000315c2e60",
   "metadata": {},
   "outputs": [],
   "source": [
    "##count unique drug strings\n",
    "df = pd.concat([faers, laers], ignore_index=True)"
   ]
  },
  {
   "cell_type": "code",
   "execution_count": 9,
   "id": "18cea8fb-6e29-450c-b30d-a4d917422ef7",
   "metadata": {},
   "outputs": [
    {
     "name": "stdout",
     "output_type": "stream",
     "text": [
      "<class 'pandas.core.frame.DataFrame'>\n",
      "RangeIndex: 48808549 entries, 0 to 48808548\n",
      "Data columns (total 9 columns):\n",
      " #   Column               Dtype  \n",
      "---  ------               -----  \n",
      " 0   primaryid            float64\n",
      " 1   isr                  float64\n",
      " 2   drug_seq             int64  \n",
      " 3   role_cod             object \n",
      " 4   drug_name_original   object \n",
      " 5   lookup_value         object \n",
      " 6   concept_id           float64\n",
      " 7   update_method        object \n",
      " 8   standard_concept_id  float64\n",
      "dtypes: float64(4), int64(1), object(4)\n",
      "memory usage: 3.3+ GB\n"
     ]
    }
   ],
   "source": [
    "df.info()"
   ]
  },
  {
   "cell_type": "code",
   "execution_count": 10,
   "id": "84ea7965-ab54-4ae7-ada2-fc15720b067c",
   "metadata": {},
   "outputs": [
    {
     "data": {
      "text/html": [
       "<div>\n",
       "<style scoped>\n",
       "    .dataframe tbody tr th:only-of-type {\n",
       "        vertical-align: middle;\n",
       "    }\n",
       "\n",
       "    .dataframe tbody tr th {\n",
       "        vertical-align: top;\n",
       "    }\n",
       "\n",
       "    .dataframe thead th {\n",
       "        text-align: right;\n",
       "    }\n",
       "</style>\n",
       "<table border=\"1\" class=\"dataframe\">\n",
       "  <thead>\n",
       "    <tr style=\"text-align: right;\">\n",
       "      <th></th>\n",
       "      <th>primaryid</th>\n",
       "      <th>isr</th>\n",
       "      <th>drug_seq</th>\n",
       "      <th>role_cod</th>\n",
       "      <th>drug_name_original</th>\n",
       "      <th>lookup_value</th>\n",
       "      <th>concept_id</th>\n",
       "      <th>update_method</th>\n",
       "      <th>standard_concept_id</th>\n",
       "    </tr>\n",
       "  </thead>\n",
       "  <tbody>\n",
       "    <tr>\n",
       "      <th>21212490</th>\n",
       "      <td>100596361.0</td>\n",
       "      <td>NaN</td>\n",
       "      <td>2</td>\n",
       "      <td>SS</td>\n",
       "      <td>NaN</td>\n",
       "      <td>SODIUM</td>\n",
       "      <td>19136048.0</td>\n",
       "      <td>drug active ingredients</td>\n",
       "      <td>19136048.0</td>\n",
       "    </tr>\n",
       "    <tr>\n",
       "      <th>21371343</th>\n",
       "      <td>104596811.0</td>\n",
       "      <td>NaN</td>\n",
       "      <td>3</td>\n",
       "      <td>C</td>\n",
       "      <td>NaN</td>\n",
       "      <td>SODIUM</td>\n",
       "      <td>19136048.0</td>\n",
       "      <td>drug active ingredients</td>\n",
       "      <td>19136048.0</td>\n",
       "    </tr>\n",
       "    <tr>\n",
       "      <th>21602582</th>\n",
       "      <td>110517871.0</td>\n",
       "      <td>NaN</td>\n",
       "      <td>7</td>\n",
       "      <td>C</td>\n",
       "      <td>NaN</td>\n",
       "      <td>SODIUM</td>\n",
       "      <td>19136048.0</td>\n",
       "      <td>drug active ingredients</td>\n",
       "      <td>19136048.0</td>\n",
       "    </tr>\n",
       "    <tr>\n",
       "      <th>21988227</th>\n",
       "      <td>121802156.0</td>\n",
       "      <td>NaN</td>\n",
       "      <td>2</td>\n",
       "      <td>C</td>\n",
       "      <td>NaN</td>\n",
       "      <td>SODIUM</td>\n",
       "      <td>19136048.0</td>\n",
       "      <td>drug active ingredients</td>\n",
       "      <td>19136048.0</td>\n",
       "    </tr>\n",
       "    <tr>\n",
       "      <th>22021616</th>\n",
       "      <td>122680872.0</td>\n",
       "      <td>NaN</td>\n",
       "      <td>2</td>\n",
       "      <td>C</td>\n",
       "      <td>NaN</td>\n",
       "      <td>SODIUM</td>\n",
       "      <td>19136048.0</td>\n",
       "      <td>drug active ingredients</td>\n",
       "      <td>19136048.0</td>\n",
       "    </tr>\n",
       "    <tr>\n",
       "      <th>...</th>\n",
       "      <td>...</td>\n",
       "      <td>...</td>\n",
       "      <td>...</td>\n",
       "      <td>...</td>\n",
       "      <td>...</td>\n",
       "      <td>...</td>\n",
       "      <td>...</td>\n",
       "      <td>...</td>\n",
       "      <td>...</td>\n",
       "    </tr>\n",
       "    <tr>\n",
       "      <th>44436252</th>\n",
       "      <td>NaN</td>\n",
       "      <td>4388051.0</td>\n",
       "      <td>1004987183</td>\n",
       "      <td>SS</td>\n",
       "      <td>NaN</td>\n",
       "      <td>SODIUM</td>\n",
       "      <td>19136048.0</td>\n",
       "      <td>drug active ingredients</td>\n",
       "      <td>19136048.0</td>\n",
       "    </tr>\n",
       "    <tr>\n",
       "      <th>44436253</th>\n",
       "      <td>NaN</td>\n",
       "      <td>4388055.0</td>\n",
       "      <td>1004987212</td>\n",
       "      <td>SS</td>\n",
       "      <td>NaN</td>\n",
       "      <td>SODIUM</td>\n",
       "      <td>19136048.0</td>\n",
       "      <td>drug active ingredients</td>\n",
       "      <td>19136048.0</td>\n",
       "    </tr>\n",
       "    <tr>\n",
       "      <th>44436254</th>\n",
       "      <td>NaN</td>\n",
       "      <td>4388057.0</td>\n",
       "      <td>1004987218</td>\n",
       "      <td>SS</td>\n",
       "      <td>NaN</td>\n",
       "      <td>SODIUM</td>\n",
       "      <td>19136048.0</td>\n",
       "      <td>drug active ingredients</td>\n",
       "      <td>19136048.0</td>\n",
       "    </tr>\n",
       "    <tr>\n",
       "      <th>44436255</th>\n",
       "      <td>NaN</td>\n",
       "      <td>4388050.0</td>\n",
       "      <td>1004987166</td>\n",
       "      <td>SS</td>\n",
       "      <td>NaN</td>\n",
       "      <td>SODIUM</td>\n",
       "      <td>19136048.0</td>\n",
       "      <td>drug active ingredients</td>\n",
       "      <td>19136048.0</td>\n",
       "    </tr>\n",
       "    <tr>\n",
       "      <th>44950914</th>\n",
       "      <td>NaN</td>\n",
       "      <td>6157800.0</td>\n",
       "      <td>1011466635</td>\n",
       "      <td>SS</td>\n",
       "      <td>NaN</td>\n",
       "      <td>SODIUM</td>\n",
       "      <td>19136048.0</td>\n",
       "      <td>drug active ingredients</td>\n",
       "      <td>19136048.0</td>\n",
       "    </tr>\n",
       "  </tbody>\n",
       "</table>\n",
       "<p>95 rows × 9 columns</p>\n",
       "</div>"
      ],
      "text/plain": [
       "            primaryid        isr    drug_seq role_cod drug_name_original  \\\n",
       "21212490  100596361.0        NaN           2       SS                NaN   \n",
       "21371343  104596811.0        NaN           3        C                NaN   \n",
       "21602582  110517871.0        NaN           7        C                NaN   \n",
       "21988227  121802156.0        NaN           2        C                NaN   \n",
       "22021616  122680872.0        NaN           2        C                NaN   \n",
       "...               ...        ...         ...      ...                ...   \n",
       "44436252          NaN  4388051.0  1004987183       SS                NaN   \n",
       "44436253          NaN  4388055.0  1004987212       SS                NaN   \n",
       "44436254          NaN  4388057.0  1004987218       SS                NaN   \n",
       "44436255          NaN  4388050.0  1004987166       SS                NaN   \n",
       "44950914          NaN  6157800.0  1011466635       SS                NaN   \n",
       "\n",
       "         lookup_value  concept_id            update_method  \\\n",
       "21212490       SODIUM  19136048.0  drug active ingredients   \n",
       "21371343       SODIUM  19136048.0  drug active ingredients   \n",
       "21602582       SODIUM  19136048.0  drug active ingredients   \n",
       "21988227       SODIUM  19136048.0  drug active ingredients   \n",
       "22021616       SODIUM  19136048.0  drug active ingredients   \n",
       "...               ...         ...                      ...   \n",
       "44436252       SODIUM  19136048.0  drug active ingredients   \n",
       "44436253       SODIUM  19136048.0  drug active ingredients   \n",
       "44436254       SODIUM  19136048.0  drug active ingredients   \n",
       "44436255       SODIUM  19136048.0  drug active ingredients   \n",
       "44950914       SODIUM  19136048.0  drug active ingredients   \n",
       "\n",
       "          standard_concept_id  \n",
       "21212490           19136048.0  \n",
       "21371343           19136048.0  \n",
       "21602582           19136048.0  \n",
       "21988227           19136048.0  \n",
       "22021616           19136048.0  \n",
       "...                       ...  \n",
       "44436252           19136048.0  \n",
       "44436253           19136048.0  \n",
       "44436254           19136048.0  \n",
       "44436255           19136048.0  \n",
       "44950914           19136048.0  \n",
       "\n",
       "[95 rows x 9 columns]"
      ]
     },
     "execution_count": 10,
     "metadata": {},
     "output_type": "execute_result"
    }
   ],
   "source": [
    "df.loc[(df['lookup_value'].notna() & df['drug_name_original'].isna())]"
   ]
  },
  {
   "cell_type": "code",
   "execution_count": 11,
   "id": "b7cd850d-0143-4caa-9b01-5c5b3bc763bb",
   "metadata": {},
   "outputs": [],
   "source": [
    "#fix rows where 'NA' has been interpreted as NULL but is actually mapped to SODIUM\n",
    "df.loc[(df['lookup_value'].notna() & df['drug_name_original'].isna()), 'drug_name_original'] = 'NA'"
   ]
  },
  {
   "cell_type": "code",
   "execution_count": 12,
   "id": "ad18407e-a8d6-4085-9523-06d86a1c9220",
   "metadata": {},
   "outputs": [
    {
     "data": {
      "text/html": [
       "<div>\n",
       "<style scoped>\n",
       "    .dataframe tbody tr th:only-of-type {\n",
       "        vertical-align: middle;\n",
       "    }\n",
       "\n",
       "    .dataframe tbody tr th {\n",
       "        vertical-align: top;\n",
       "    }\n",
       "\n",
       "    .dataframe thead th {\n",
       "        text-align: right;\n",
       "    }\n",
       "</style>\n",
       "<table border=\"1\" class=\"dataframe\">\n",
       "  <thead>\n",
       "    <tr style=\"text-align: right;\">\n",
       "      <th></th>\n",
       "      <th>primaryid</th>\n",
       "      <th>isr</th>\n",
       "      <th>drug_seq</th>\n",
       "      <th>role_cod</th>\n",
       "      <th>drug_name_original</th>\n",
       "      <th>lookup_value</th>\n",
       "      <th>concept_id</th>\n",
       "      <th>update_method</th>\n",
       "      <th>standard_concept_id</th>\n",
       "    </tr>\n",
       "  </thead>\n",
       "  <tbody>\n",
       "  </tbody>\n",
       "</table>\n",
       "</div>"
      ],
      "text/plain": [
       "Empty DataFrame\n",
       "Columns: [primaryid, isr, drug_seq, role_cod, drug_name_original, lookup_value, concept_id, update_method, standard_concept_id]\n",
       "Index: []"
      ]
     },
     "execution_count": 12,
     "metadata": {},
     "output_type": "execute_result"
    }
   ],
   "source": [
    "df.loc[(df['lookup_value'].notna() & df['drug_name_original'].isna())]"
   ]
  },
  {
   "cell_type": "code",
   "execution_count": 13,
   "id": "dc1473b4-c98f-42e5-9452-4041b4d8dbf9",
   "metadata": {},
   "outputs": [
    {
     "data": {
      "text/html": [
       "<div>\n",
       "<style scoped>\n",
       "    .dataframe tbody tr th:only-of-type {\n",
       "        vertical-align: middle;\n",
       "    }\n",
       "\n",
       "    .dataframe tbody tr th {\n",
       "        vertical-align: top;\n",
       "    }\n",
       "\n",
       "    .dataframe thead th {\n",
       "        text-align: right;\n",
       "    }\n",
       "</style>\n",
       "<table border=\"1\" class=\"dataframe\">\n",
       "  <thead>\n",
       "    <tr style=\"text-align: right;\">\n",
       "      <th></th>\n",
       "      <th>primaryid</th>\n",
       "      <th>isr</th>\n",
       "      <th>drug_seq</th>\n",
       "      <th>role_cod</th>\n",
       "      <th>drug_name_original</th>\n",
       "      <th>lookup_value</th>\n",
       "      <th>concept_id</th>\n",
       "      <th>update_method</th>\n",
       "      <th>standard_concept_id</th>\n",
       "    </tr>\n",
       "  </thead>\n",
       "  <tbody>\n",
       "    <tr>\n",
       "      <th>21489251</th>\n",
       "      <td>107315631.0</td>\n",
       "      <td>NaN</td>\n",
       "      <td>2</td>\n",
       "      <td>SS</td>\n",
       "      <td>NaN</td>\n",
       "      <td>NaN</td>\n",
       "      <td>NaN</td>\n",
       "      <td>NaN</td>\n",
       "      <td>NaN</td>\n",
       "    </tr>\n",
       "    <tr>\n",
       "      <th>21489256</th>\n",
       "      <td>107315771.0</td>\n",
       "      <td>NaN</td>\n",
       "      <td>6</td>\n",
       "      <td>SS</td>\n",
       "      <td>NaN</td>\n",
       "      <td>NaN</td>\n",
       "      <td>NaN</td>\n",
       "      <td>NaN</td>\n",
       "      <td>NaN</td>\n",
       "    </tr>\n",
       "    <tr>\n",
       "      <th>22107233</th>\n",
       "      <td>124934781.0</td>\n",
       "      <td>NaN</td>\n",
       "      <td>2</td>\n",
       "      <td>C</td>\n",
       "      <td>NaN</td>\n",
       "      <td>NaN</td>\n",
       "      <td>NaN</td>\n",
       "      <td>NaN</td>\n",
       "      <td>NaN</td>\n",
       "    </tr>\n",
       "    <tr>\n",
       "      <th>22111064</th>\n",
       "      <td>125030001.0</td>\n",
       "      <td>NaN</td>\n",
       "      <td>2</td>\n",
       "      <td>C</td>\n",
       "      <td>NaN</td>\n",
       "      <td>NaN</td>\n",
       "      <td>NaN</td>\n",
       "      <td>NaN</td>\n",
       "      <td>NaN</td>\n",
       "    </tr>\n",
       "    <tr>\n",
       "      <th>22111065</th>\n",
       "      <td>125030021.0</td>\n",
       "      <td>NaN</td>\n",
       "      <td>2</td>\n",
       "      <td>C</td>\n",
       "      <td>NaN</td>\n",
       "      <td>NaN</td>\n",
       "      <td>NaN</td>\n",
       "      <td>NaN</td>\n",
       "      <td>NaN</td>\n",
       "    </tr>\n",
       "    <tr>\n",
       "      <th>...</th>\n",
       "      <td>...</td>\n",
       "      <td>...</td>\n",
       "      <td>...</td>\n",
       "      <td>...</td>\n",
       "      <td>...</td>\n",
       "      <td>...</td>\n",
       "      <td>...</td>\n",
       "      <td>...</td>\n",
       "      <td>...</td>\n",
       "    </tr>\n",
       "    <tr>\n",
       "      <th>44543423</th>\n",
       "      <td>NaN</td>\n",
       "      <td>4731022.0</td>\n",
       "      <td>1006324455</td>\n",
       "      <td>SS</td>\n",
       "      <td>NaN</td>\n",
       "      <td>NaN</td>\n",
       "      <td>NaN</td>\n",
       "      <td>NaN</td>\n",
       "      <td>NaN</td>\n",
       "    </tr>\n",
       "    <tr>\n",
       "      <th>45118961</th>\n",
       "      <td>NaN</td>\n",
       "      <td>6709400.0</td>\n",
       "      <td>1013654366</td>\n",
       "      <td>C</td>\n",
       "      <td>NaN</td>\n",
       "      <td>NaN</td>\n",
       "      <td>NaN</td>\n",
       "      <td>NaN</td>\n",
       "      <td>NaN</td>\n",
       "    </tr>\n",
       "    <tr>\n",
       "      <th>45118972</th>\n",
       "      <td>NaN</td>\n",
       "      <td>6709435.0</td>\n",
       "      <td>1013655987</td>\n",
       "      <td>C</td>\n",
       "      <td>NaN</td>\n",
       "      <td>NaN</td>\n",
       "      <td>NaN</td>\n",
       "      <td>NaN</td>\n",
       "      <td>NaN</td>\n",
       "    </tr>\n",
       "    <tr>\n",
       "      <th>45471623</th>\n",
       "      <td>NaN</td>\n",
       "      <td>8162500.0</td>\n",
       "      <td>1018954407</td>\n",
       "      <td>C</td>\n",
       "      <td>NaN</td>\n",
       "      <td>NaN</td>\n",
       "      <td>NaN</td>\n",
       "      <td>NaN</td>\n",
       "      <td>NaN</td>\n",
       "    </tr>\n",
       "    <tr>\n",
       "      <th>45471624</th>\n",
       "      <td>NaN</td>\n",
       "      <td>8162504.0</td>\n",
       "      <td>1018954414</td>\n",
       "      <td>C</td>\n",
       "      <td>NaN</td>\n",
       "      <td>NaN</td>\n",
       "      <td>NaN</td>\n",
       "      <td>NaN</td>\n",
       "      <td>NaN</td>\n",
       "    </tr>\n",
       "  </tbody>\n",
       "</table>\n",
       "<p>1263 rows × 9 columns</p>\n",
       "</div>"
      ],
      "text/plain": [
       "            primaryid        isr    drug_seq role_cod drug_name_original  \\\n",
       "21489251  107315631.0        NaN           2       SS                NaN   \n",
       "21489256  107315771.0        NaN           6       SS                NaN   \n",
       "22107233  124934781.0        NaN           2        C                NaN   \n",
       "22111064  125030001.0        NaN           2        C                NaN   \n",
       "22111065  125030021.0        NaN           2        C                NaN   \n",
       "...               ...        ...         ...      ...                ...   \n",
       "44543423          NaN  4731022.0  1006324455       SS                NaN   \n",
       "45118961          NaN  6709400.0  1013654366        C                NaN   \n",
       "45118972          NaN  6709435.0  1013655987        C                NaN   \n",
       "45471623          NaN  8162500.0  1018954407        C                NaN   \n",
       "45471624          NaN  8162504.0  1018954414        C                NaN   \n",
       "\n",
       "         lookup_value  concept_id update_method  standard_concept_id  \n",
       "21489251          NaN         NaN           NaN                  NaN  \n",
       "21489256          NaN         NaN           NaN                  NaN  \n",
       "22107233          NaN         NaN           NaN                  NaN  \n",
       "22111064          NaN         NaN           NaN                  NaN  \n",
       "22111065          NaN         NaN           NaN                  NaN  \n",
       "...               ...         ...           ...                  ...  \n",
       "44543423          NaN         NaN           NaN                  NaN  \n",
       "45118961          NaN         NaN           NaN                  NaN  \n",
       "45118972          NaN         NaN           NaN                  NaN  \n",
       "45471623          NaN         NaN           NaN                  NaN  \n",
       "45471624          NaN         NaN           NaN                  NaN  \n",
       "\n",
       "[1263 rows x 9 columns]"
      ]
     },
     "execution_count": 13,
     "metadata": {},
     "output_type": "execute_result"
    }
   ],
   "source": [
    "#3+1254 rows in original dataset have NULL or N/A values \n",
    "df.loc[df['drug_name_original'].isna()]"
   ]
  },
  {
   "cell_type": "code",
   "execution_count": 21,
   "id": "9fa716be-ed8c-40d7-bb78-f845f8201c92",
   "metadata": {},
   "outputs": [
    {
     "data": {
      "text/plain": [
       "48808549"
      ]
     },
     "execution_count": 21,
     "metadata": {},
     "output_type": "execute_result"
    }
   ],
   "source": [
    "drugs_all = df['drug_name_original'].tolist()\n",
    "len(drugs_all)"
   ]
  },
  {
   "cell_type": "code",
   "execution_count": 22,
   "id": "984646df-e259-446a-8727-b6fcaeb4b40f",
   "metadata": {},
   "outputs": [
    {
     "data": {
      "text/plain": [
       "832032"
      ]
     },
     "execution_count": 22,
     "metadata": {},
     "output_type": "execute_result"
    }
   ],
   "source": [
    "drugs_all_unique = list(set(drugs_all))\n",
    "len(drugs_all_unique)"
   ]
  },
  {
   "cell_type": "code",
   "execution_count": 19,
   "id": "106b6f48-ff2d-447d-b9d2-5d7c8f2a5826",
   "metadata": {},
   "outputs": [
    {
     "data": {
      "text/plain": [
       "[nan,\n",
       " 'DOBUTAMINE IN 5% DEXTROSE INJ USP (DOBUTAMINE HYDROCHLORIDE)',\n",
       " 'KLONAZEPAM',\n",
       " 'DISGREN',\n",
       " 'BUTALBITAL, ACETAMINOPHEN, AND CAFFEINE CAPSULE S',\n",
       " 'Dalteparin sodium',\n",
       " 'EVISATA',\n",
       " 'DECADRON /CAN/ (DEXAMETHASONE /00016001/)',\n",
       " \"WOMEN'S WELLNESS PRE-MENSTRUAL\",\n",
       " 'NEOPHAGEN (GLYCYRRHIZINATE POTASSIUM)',\n",
       " 'Monocedocard ret caps 50mg',\n",
       " 'LACTOBACILLUS  ACIDOPHILUS',\n",
       " 'BRONKAID   BAYER HEALTHCARE LLC',\n",
       " 'RATIO-FLUTICASONE',\n",
       " 'Thisilyn',\n",
       " 'Cerefolin NA',\n",
       " 'FLORA Q [LACTOBACILLUS ACIDOPHILUS]',\n",
       " 'PENICILLIN VK /00001801/ (PHENOXYMETHYLPENICILLIN)',\n",
       " 'SPRIOLADACTONE',\n",
       " 'CETIRIZINE HYDROCHLORIDE-PSEUDOEPHEDRINE HYDROCHLORIDE',\n",
       " 'ARTHRITIS MEDICAITON',\n",
       " 'Ibuprofen 200 mg tablets',\n",
       " 'ESTRADIOL (VAGIFEM)',\n",
       " 'SULFUR ELEMENTAL SUPPLEMENT',\n",
       " 'SEPTANEST (ARTICAINE HYDROCHLORIDE 4% WITH EPINEPHRINE 1:100,000)',\n",
       " 'Omega Oils',\n",
       " 'FUROSEMIDE MYLAN 40',\n",
       " '0.9% NA CL 250ML',\n",
       " 'Ulcermin',\n",
       " 'Acid Flux',\n",
       " 'TUDORZA PRESS AIR',\n",
       " 'SODA BICARBONATE',\n",
       " 'TRAMAL OD',\n",
       " 'AS-LUNEX',\n",
       " 'NEUDEXTA (OTHER NERVOUS SYSTEM DRUGS)',\n",
       " 'CLOPIDOGREL TAB',\n",
       " 'MIMPARA',\n",
       " 'DRUG, UNSPECIFIED (DRUGS, UNSPECIFIED0',\n",
       " 'Famotidine Tablet USP (OTC)',\n",
       " 'TEVA ARMODAFINIL',\n",
       " 'IXYCODONE HYDROCODONE',\n",
       " 'IV LIPID',\n",
       " 'tradonal retard',\n",
       " 'METHADONE (METHADONE)90 MG',\n",
       " 'polyethylene glycol 17gm daily',\n",
       " 'BADGER BABY SUNSCREEN',\n",
       " 'SUBOXONE/01687501/(BUPRENOPHINE, NALOXONE)',\n",
       " 'CANNABIS',\n",
       " 'FLUOXETIN ^SANDOZ^',\n",
       " 'SEVERAL VITAMINS NOS']"
      ]
     },
     "execution_count": 19,
     "metadata": {},
     "output_type": "execute_result"
    }
   ],
   "source": [
    "drugs_all_unique[0:50]"
   ]
  },
  {
   "cell_type": "code",
   "execution_count": 42,
   "id": "83f1e869-debd-4138-b1f4-413930cde910",
   "metadata": {},
   "outputs": [
    {
     "name": "stdout",
     "output_type": "stream",
     "text": [
      "<class 'pandas.core.frame.DataFrame'>\n",
      "RangeIndex: 48808549 entries, 0 to 48808548\n",
      "Data columns (total 9 columns):\n",
      " #   Column               Dtype  \n",
      "---  ------               -----  \n",
      " 0   primaryid            float64\n",
      " 1   isr                  float64\n",
      " 2   drug_seq             int64  \n",
      " 3   role_cod             object \n",
      " 4   drug_name_original   object \n",
      " 5   lookup_value         object \n",
      " 6   concept_id           float64\n",
      " 7   update_method        object \n",
      " 8   standard_concept_id  float64\n",
      "dtypes: float64(4), int64(1), object(4)\n",
      "memory usage: 3.3+ GB\n"
     ]
    }
   ],
   "source": [
    "df.info()"
   ]
  },
  {
   "cell_type": "code",
   "execution_count": 23,
   "id": "5804ea81-7bbc-4ffa-8bed-e617ff7fb5dd",
   "metadata": {},
   "outputs": [],
   "source": [
    "#divide into mapped and unmapped strings\n",
    "df_map = df.loc[df['lookup_value'].notna()]\n",
    "df_unmap = df.loc[df['lookup_value'].isna()]"
   ]
  },
  {
   "cell_type": "code",
   "execution_count": 24,
   "id": "afaa9e84-dcdc-479f-b255-aed127119529",
   "metadata": {},
   "outputs": [
    {
     "name": "stdout",
     "output_type": "stream",
     "text": [
      "<class 'pandas.core.frame.DataFrame'>\n",
      "RangeIndex: 46183465 entries, 0 to 46183464\n",
      "Data columns (total 9 columns):\n",
      " #   Column               Dtype  \n",
      "---  ------               -----  \n",
      " 0   primaryid            float64\n",
      " 1   isr                  float64\n",
      " 2   drug_seq             int64  \n",
      " 3   role_cod             object \n",
      " 4   drug_name_original   object \n",
      " 5   lookup_value         object \n",
      " 6   concept_id           float64\n",
      " 7   update_method        object \n",
      " 8   standard_concept_id  float64\n",
      "dtypes: float64(4), int64(1), object(4)\n",
      "memory usage: 3.1+ GB\n"
     ]
    }
   ],
   "source": [
    "df_map = df_map.reset_index(drop=True)\n",
    "df_map.info()"
   ]
  },
  {
   "cell_type": "code",
   "execution_count": 25,
   "id": "bc670b85-e429-46ad-8a93-758386a0eb36",
   "metadata": {},
   "outputs": [
    {
     "name": "stdout",
     "output_type": "stream",
     "text": [
      "<class 'pandas.core.frame.DataFrame'>\n",
      "RangeIndex: 2625084 entries, 0 to 2625083\n",
      "Data columns (total 9 columns):\n",
      " #   Column               Dtype  \n",
      "---  ------               -----  \n",
      " 0   primaryid            float64\n",
      " 1   isr                  float64\n",
      " 2   drug_seq             int64  \n",
      " 3   role_cod             object \n",
      " 4   drug_name_original   object \n",
      " 5   lookup_value         object \n",
      " 6   concept_id           float64\n",
      " 7   update_method        object \n",
      " 8   standard_concept_id  float64\n",
      "dtypes: float64(4), int64(1), object(4)\n",
      "memory usage: 180.3+ MB\n"
     ]
    }
   ],
   "source": [
    "df_unmap = df_unmap.reset_index(drop=True)\n",
    "df_unmap.info()"
   ]
  },
  {
   "cell_type": "code",
   "execution_count": 26,
   "id": "a7de6a01-2f74-49ae-9c49-c57984442880",
   "metadata": {},
   "outputs": [
    {
     "data": {
      "text/html": [
       "<div>\n",
       "<style scoped>\n",
       "    .dataframe tbody tr th:only-of-type {\n",
       "        vertical-align: middle;\n",
       "    }\n",
       "\n",
       "    .dataframe tbody tr th {\n",
       "        vertical-align: top;\n",
       "    }\n",
       "\n",
       "    .dataframe thead th {\n",
       "        text-align: right;\n",
       "    }\n",
       "</style>\n",
       "<table border=\"1\" class=\"dataframe\">\n",
       "  <thead>\n",
       "    <tr style=\"text-align: right;\">\n",
       "      <th></th>\n",
       "      <th>primaryid</th>\n",
       "      <th>isr</th>\n",
       "      <th>drug_seq</th>\n",
       "      <th>role_cod</th>\n",
       "      <th>drug_name_original</th>\n",
       "      <th>lookup_value</th>\n",
       "      <th>concept_id</th>\n",
       "      <th>update_method</th>\n",
       "      <th>standard_concept_id</th>\n",
       "    </tr>\n",
       "  </thead>\n",
       "  <tbody>\n",
       "    <tr>\n",
       "      <th>0</th>\n",
       "      <td>1.000332e+08</td>\n",
       "      <td>NaN</td>\n",
       "      <td>11</td>\n",
       "      <td>C</td>\n",
       "      <td>Baktar</td>\n",
       "      <td>NaN</td>\n",
       "      <td>NaN</td>\n",
       "      <td>NaN</td>\n",
       "      <td>NaN</td>\n",
       "    </tr>\n",
       "    <tr>\n",
       "      <th>1</th>\n",
       "      <td>1.000332e+08</td>\n",
       "      <td>NaN</td>\n",
       "      <td>13</td>\n",
       "      <td>C</td>\n",
       "      <td>chinese medicine</td>\n",
       "      <td>NaN</td>\n",
       "      <td>NaN</td>\n",
       "      <td>NaN</td>\n",
       "      <td>NaN</td>\n",
       "    </tr>\n",
       "    <tr>\n",
       "      <th>2</th>\n",
       "      <td>1.000333e+09</td>\n",
       "      <td>NaN</td>\n",
       "      <td>10</td>\n",
       "      <td>C</td>\n",
       "      <td>IDROCLOROTIAZ</td>\n",
       "      <td>NaN</td>\n",
       "      <td>NaN</td>\n",
       "      <td>NaN</td>\n",
       "      <td>NaN</td>\n",
       "    </tr>\n",
       "    <tr>\n",
       "      <th>3</th>\n",
       "      <td>1.000333e+09</td>\n",
       "      <td>NaN</td>\n",
       "      <td>4</td>\n",
       "      <td>C</td>\n",
       "      <td>INSULINA GLULISINA</td>\n",
       "      <td>NaN</td>\n",
       "      <td>NaN</td>\n",
       "      <td>NaN</td>\n",
       "      <td>NaN</td>\n",
       "    </tr>\n",
       "    <tr>\n",
       "      <th>4</th>\n",
       "      <td>1.000333e+09</td>\n",
       "      <td>NaN</td>\n",
       "      <td>9</td>\n",
       "      <td>C</td>\n",
       "      <td>IDROCLOROTIAZ</td>\n",
       "      <td>NaN</td>\n",
       "      <td>NaN</td>\n",
       "      <td>NaN</td>\n",
       "      <td>NaN</td>\n",
       "    </tr>\n",
       "  </tbody>\n",
       "</table>\n",
       "</div>"
      ],
      "text/plain": [
       "      primaryid  isr  drug_seq role_cod  drug_name_original lookup_value  \\\n",
       "0  1.000332e+08  NaN        11        C              Baktar          NaN   \n",
       "1  1.000332e+08  NaN        13        C    chinese medicine          NaN   \n",
       "2  1.000333e+09  NaN        10        C       IDROCLOROTIAZ          NaN   \n",
       "3  1.000333e+09  NaN         4        C  INSULINA GLULISINA          NaN   \n",
       "4  1.000333e+09  NaN         9        C       IDROCLOROTIAZ          NaN   \n",
       "\n",
       "   concept_id update_method  standard_concept_id  \n",
       "0         NaN           NaN                  NaN  \n",
       "1         NaN           NaN                  NaN  \n",
       "2         NaN           NaN                  NaN  \n",
       "3         NaN           NaN                  NaN  \n",
       "4         NaN           NaN                  NaN  "
      ]
     },
     "execution_count": 26,
     "metadata": {},
     "output_type": "execute_result"
    }
   ],
   "source": [
    "df_unmap.head()"
   ]
  },
  {
   "cell_type": "code",
   "execution_count": 27,
   "id": "4c4f8478-6ce6-40dd-bf5f-4517a27ec9ca",
   "metadata": {},
   "outputs": [
    {
     "data": {
      "text/html": [
       "<div>\n",
       "<style scoped>\n",
       "    .dataframe tbody tr th:only-of-type {\n",
       "        vertical-align: middle;\n",
       "    }\n",
       "\n",
       "    .dataframe tbody tr th {\n",
       "        vertical-align: top;\n",
       "    }\n",
       "\n",
       "    .dataframe thead th {\n",
       "        text-align: right;\n",
       "    }\n",
       "</style>\n",
       "<table border=\"1\" class=\"dataframe\">\n",
       "  <thead>\n",
       "    <tr style=\"text-align: right;\">\n",
       "      <th></th>\n",
       "      <th>primaryid</th>\n",
       "      <th>isr</th>\n",
       "      <th>drug_seq</th>\n",
       "      <th>role_cod</th>\n",
       "      <th>drug_name_original</th>\n",
       "      <th>lookup_value</th>\n",
       "      <th>concept_id</th>\n",
       "      <th>update_method</th>\n",
       "      <th>standard_concept_id</th>\n",
       "    </tr>\n",
       "  </thead>\n",
       "  <tbody>\n",
       "    <tr>\n",
       "      <th>0</th>\n",
       "      <td>125075212.0</td>\n",
       "      <td>NaN</td>\n",
       "      <td>6</td>\n",
       "      <td>C</td>\n",
       "      <td>SIVASTIN</td>\n",
       "      <td>SIMVASTATIN</td>\n",
       "      <td>1539403.0</td>\n",
       "      <td>regex upper</td>\n",
       "      <td>1539403.0</td>\n",
       "    </tr>\n",
       "    <tr>\n",
       "      <th>1</th>\n",
       "      <td>125702831.0</td>\n",
       "      <td>NaN</td>\n",
       "      <td>5</td>\n",
       "      <td>C</td>\n",
       "      <td>SIVASTIN</td>\n",
       "      <td>SIMVASTATIN</td>\n",
       "      <td>1539403.0</td>\n",
       "      <td>regex upper</td>\n",
       "      <td>1539403.0</td>\n",
       "    </tr>\n",
       "    <tr>\n",
       "      <th>2</th>\n",
       "      <td>125632441.0</td>\n",
       "      <td>NaN</td>\n",
       "      <td>5</td>\n",
       "      <td>C</td>\n",
       "      <td>SIVASTIN</td>\n",
       "      <td>SIMVASTATIN</td>\n",
       "      <td>1539403.0</td>\n",
       "      <td>regex upper</td>\n",
       "      <td>1539403.0</td>\n",
       "    </tr>\n",
       "    <tr>\n",
       "      <th>3</th>\n",
       "      <td>125671332.0</td>\n",
       "      <td>NaN</td>\n",
       "      <td>5</td>\n",
       "      <td>C</td>\n",
       "      <td>SIVASTIN</td>\n",
       "      <td>SIMVASTATIN</td>\n",
       "      <td>1539403.0</td>\n",
       "      <td>regex upper</td>\n",
       "      <td>1539403.0</td>\n",
       "    </tr>\n",
       "    <tr>\n",
       "      <th>4</th>\n",
       "      <td>124821811.0</td>\n",
       "      <td>NaN</td>\n",
       "      <td>3</td>\n",
       "      <td>C</td>\n",
       "      <td>SIVASTIN</td>\n",
       "      <td>SIMVASTATIN</td>\n",
       "      <td>1539403.0</td>\n",
       "      <td>regex upper</td>\n",
       "      <td>1539403.0</td>\n",
       "    </tr>\n",
       "  </tbody>\n",
       "</table>\n",
       "</div>"
      ],
      "text/plain": [
       "     primaryid  isr  drug_seq role_cod drug_name_original lookup_value  \\\n",
       "0  125075212.0  NaN         6        C           SIVASTIN  SIMVASTATIN   \n",
       "1  125702831.0  NaN         5        C           SIVASTIN  SIMVASTATIN   \n",
       "2  125632441.0  NaN         5        C           SIVASTIN  SIMVASTATIN   \n",
       "3  125671332.0  NaN         5        C           SIVASTIN  SIMVASTATIN   \n",
       "4  124821811.0  NaN         3        C           SIVASTIN  SIMVASTATIN   \n",
       "\n",
       "   concept_id update_method  standard_concept_id  \n",
       "0   1539403.0   regex upper            1539403.0  \n",
       "1   1539403.0   regex upper            1539403.0  \n",
       "2   1539403.0   regex upper            1539403.0  \n",
       "3   1539403.0   regex upper            1539403.0  \n",
       "4   1539403.0   regex upper            1539403.0  "
      ]
     },
     "execution_count": 27,
     "metadata": {},
     "output_type": "execute_result"
    }
   ],
   "source": [
    "df_map.head()"
   ]
  },
  {
   "cell_type": "code",
   "execution_count": 28,
   "id": "1822ad98-7d2d-4f7e-83a4-b7d6263d2634",
   "metadata": {},
   "outputs": [
    {
     "data": {
      "text/plain": [
       "381430"
      ]
     },
     "execution_count": 28,
     "metadata": {},
     "output_type": "execute_result"
    }
   ],
   "source": [
    "##count unique drug strings in both\n",
    "drug_map = df_map['drug_name_original'].unique()\n",
    "len(drug_map)"
   ]
  },
  {
   "cell_type": "code",
   "execution_count": 29,
   "id": "74303469-ee2d-41f1-838a-601ca97fde23",
   "metadata": {},
   "outputs": [
    {
     "data": {
      "text/plain": [
       "450602"
      ]
     },
     "execution_count": 29,
     "metadata": {},
     "output_type": "execute_result"
    }
   ],
   "source": [
    "drug_unmap = df_unmap['drug_name_original'].unique()\n",
    "len(drug_unmap)"
   ]
  },
  {
   "cell_type": "code",
   "execution_count": 31,
   "id": "23ad1727-5677-4cc4-8958-413a8c7ea450",
   "metadata": {},
   "outputs": [
    {
     "data": {
      "text/plain": [
       "(46183465, 9)"
      ]
     },
     "execution_count": 31,
     "metadata": {},
     "output_type": "execute_result"
    }
   ],
   "source": [
    "df_map.shape"
   ]
  },
  {
   "cell_type": "code",
   "execution_count": 32,
   "id": "8a41dd6a-4fa3-4d02-8741-35bd50870f97",
   "metadata": {},
   "outputs": [
    {
     "data": {
      "text/plain": [
       "(2625084, 9)"
      ]
     },
     "execution_count": 32,
     "metadata": {},
     "output_type": "execute_result"
    }
   ],
   "source": [
    "df_unmap.shape"
   ]
  },
  {
   "cell_type": "code",
   "execution_count": 33,
   "id": "f19cfbec-4e74-4045-bd00-3e4b29374d7f",
   "metadata": {},
   "outputs": [
    {
     "data": {
      "text/plain": [
       "10423369"
      ]
     },
     "execution_count": 33,
     "metadata": {},
     "output_type": "execute_result"
    }
   ],
   "source": [
    "##find coverage of mapped and unmapped reports - or complete vs incomplete where\n",
    "#complete = all drug strings in report are mapped\n",
    "#incomplete = one or more drug strings in report are unmapped\n",
    "pid_map = df_map['primaryid'].unique()\n",
    "len(pid_map)"
   ]
  },
  {
   "cell_type": "code",
   "execution_count": 34,
   "id": "4b45a13d-f57d-492a-9722-15e6ed95207f",
   "metadata": {},
   "outputs": [
    {
     "data": {
      "text/plain": [
       "1192094"
      ]
     },
     "execution_count": 34,
     "metadata": {},
     "output_type": "execute_result"
    }
   ],
   "source": [
    "pid_unmap = df_unmap['primaryid'].unique()\n",
    "len(pid_unmap)"
   ]
  },
  {
   "cell_type": "code",
   "execution_count": 35,
   "id": "4f0c377e-1811-4585-9934-7d059ea852b7",
   "metadata": {},
   "outputs": [
    {
     "data": {
      "text/plain": [
       "2938479"
      ]
     },
     "execution_count": 35,
     "metadata": {},
     "output_type": "execute_result"
    }
   ],
   "source": [
    "isr_map = df_map['isr'].unique()\n",
    "len(isr_map)"
   ]
  },
  {
   "cell_type": "code",
   "execution_count": 36,
   "id": "9e49b9cb-f342-40ae-9107-26e03e8038f6",
   "metadata": {},
   "outputs": [
    {
     "data": {
      "text/plain": [
       "522607"
      ]
     },
     "execution_count": 36,
     "metadata": {},
     "output_type": "execute_result"
    }
   ],
   "source": [
    "isr_unmap = df_unmap['isr'].unique()\n",
    "len(isr_unmap)"
   ]
  },
  {
   "cell_type": "code",
   "execution_count": 37,
   "id": "0fa800be-2d60-416f-9645-0beaf181bf58",
   "metadata": {},
   "outputs": [
    {
     "data": {
      "text/plain": [
       "1025042"
      ]
     },
     "execution_count": 37,
     "metadata": {},
     "output_type": "execute_result"
    }
   ],
   "source": [
    "#find intersection of mapped and unmapped reports\n",
    "pid_intersect = np.intersect1d(pid_map, pid_unmap)\n",
    "len(pid_intersect)"
   ]
  },
  {
   "cell_type": "code",
   "execution_count": 38,
   "id": "a40d64ba-387e-4172-86c5-9a005b574243",
   "metadata": {},
   "outputs": [
    {
     "data": {
      "text/plain": [
       "464099"
      ]
     },
     "execution_count": 38,
     "metadata": {},
     "output_type": "execute_result"
    }
   ],
   "source": [
    "isr_intersect = np.intersect1d(isr_map, isr_unmap)\n",
    "len(isr_intersect)"
   ]
  },
  {
   "cell_type": "code",
   "execution_count": 39,
   "id": "3789c63c-c3f1-44f5-8d0c-771cc14a4187",
   "metadata": {},
   "outputs": [],
   "source": [
    "df_map.to_csv('data/FAERS_mapped_drugs_20220131.csv', index=False)\n",
    "df_unmap.to_csv('data/FAERS_unmapped_drugs_20220131.csv', index=False)"
   ]
  },
  {
   "cell_type": "code",
   "execution_count": 40,
   "id": "5f9754b5-0c78-484b-9b67-d45e9df7a46f",
   "metadata": {},
   "outputs": [],
   "source": [
    "df.to_csv('data/FAERS_combined_drugs_20220131.csv', index=False)"
   ]
  },
  {
   "cell_type": "code",
   "execution_count": 30,
   "id": "d3cfac25-ed70-4542-a7ef-b8409ee746b7",
   "metadata": {},
   "outputs": [],
   "source": [
    "#is number of unique drugs same as unique drugs+lookup value combo?\n",
    "df_test1 = df_map[['drug_name_original', 'lookup_value']]\n",
    "df_test2 = df_unmap[['drug_name_original', 'lookup_value']]"
   ]
  },
  {
   "cell_type": "code",
   "execution_count": 31,
   "id": "841dec23-6650-43e4-acfc-6aee37073170",
   "metadata": {},
   "outputs": [
    {
     "name": "stdout",
     "output_type": "stream",
     "text": [
      "<class 'pandas.core.frame.DataFrame'>\n",
      "RangeIndex: 46179428 entries, 0 to 46179427\n",
      "Data columns (total 2 columns):\n",
      " #   Column              Dtype \n",
      "---  ------              ----- \n",
      " 0   drug_name_original  object\n",
      " 1   lookup_value        object\n",
      "dtypes: object(2)\n",
      "memory usage: 704.6+ MB\n"
     ]
    }
   ],
   "source": [
    "df_test1.info()"
   ]
  },
  {
   "cell_type": "code",
   "execution_count": 32,
   "id": "0d740ac3-8c42-49a1-962c-1237f3321d14",
   "metadata": {},
   "outputs": [
    {
     "name": "stdout",
     "output_type": "stream",
     "text": [
      "<class 'pandas.core.frame.DataFrame'>\n",
      "RangeIndex: 2629121 entries, 0 to 2629120\n",
      "Data columns (total 2 columns):\n",
      " #   Column              Dtype \n",
      "---  ------              ----- \n",
      " 0   drug_name_original  object\n",
      " 1   lookup_value        object\n",
      "dtypes: object(2)\n",
      "memory usage: 40.1+ MB\n"
     ]
    }
   ],
   "source": [
    "df_test2.info()"
   ]
  },
  {
   "cell_type": "code",
   "execution_count": 33,
   "id": "27450d56-5cd9-46cb-91df-1a16f83929f5",
   "metadata": {},
   "outputs": [],
   "source": [
    "df_test1 = df_test1.drop_duplicates()\n",
    "df_test2 = df_test2.drop_duplicates()"
   ]
  },
  {
   "cell_type": "code",
   "execution_count": 34,
   "id": "3172c845-f6a0-432d-b538-fb99e6a75a99",
   "metadata": {},
   "outputs": [
    {
     "name": "stdout",
     "output_type": "stream",
     "text": [
      "<class 'pandas.core.frame.DataFrame'>\n",
      "Int64Index: 380774 entries, 0 to 46178198\n",
      "Data columns (total 2 columns):\n",
      " #   Column              Non-Null Count   Dtype \n",
      "---  ------              --------------   ----- \n",
      " 0   drug_name_original  380773 non-null  object\n",
      " 1   lookup_value        380774 non-null  object\n",
      "dtypes: object(2)\n",
      "memory usage: 8.7+ MB\n"
     ]
    }
   ],
   "source": [
    "df_test1.info()\n"
   ]
  },
  {
   "cell_type": "code",
   "execution_count": 35,
   "id": "0d695663-4cef-4478-a2a4-b8f9bc463261",
   "metadata": {},
   "outputs": [
    {
     "name": "stdout",
     "output_type": "stream",
     "text": [
      "<class 'pandas.core.frame.DataFrame'>\n",
      "Int64Index: 451258 entries, 0 to 2629120\n",
      "Data columns (total 2 columns):\n",
      " #   Column              Non-Null Count   Dtype \n",
      "---  ------              --------------   ----- \n",
      " 0   drug_name_original  451257 non-null  object\n",
      " 1   lookup_value        0 non-null       object\n",
      "dtypes: object(2)\n",
      "memory usage: 10.3+ MB\n"
     ]
    }
   ],
   "source": [
    "df_test2.info()"
   ]
  },
  {
   "cell_type": "code",
   "execution_count": null,
   "id": "846422cd-5b2e-4ac1-9832-a03e778fc792",
   "metadata": {},
   "outputs": [],
   "source": []
  },
  {
   "cell_type": "code",
   "execution_count": 4,
   "id": "a236b2a6-2ca9-4fe7-8afc-c54fbba159ac",
   "metadata": {},
   "outputs": [
    {
     "name": "stdout",
     "output_type": "stream",
     "text": [
      "<class 'pandas.core.frame.DataFrame'>\n",
      "RangeIndex: 569525 entries, 0 to 569524\n",
      "Data columns (total 1 columns):\n",
      " #   Column              Non-Null Count   Dtype \n",
      "---  ------              --------------   ----- \n",
      " 0   drug_name_original  412264 non-null  object\n",
      "dtypes: object(1)\n",
      "memory usage: 4.3+ MB\n"
     ]
    }
   ],
   "source": [
    "dfup = pd.read_csv('data/upper_unmap_orig_drug_names_202201201812.csv')\n",
    "dfup.info()"
   ]
  },
  {
   "cell_type": "code",
   "execution_count": 5,
   "id": "96eecbd6-c031-4b04-942b-3fd1accb5fb3",
   "metadata": {},
   "outputs": [
    {
     "name": "stdout",
     "output_type": "stream",
     "text": [
      "<class 'pandas.core.frame.DataFrame'>\n",
      "RangeIndex: 6195 entries, 0 to 6194\n",
      "Data columns (total 2 columns):\n",
      " #   Column      Non-Null Count  Dtype \n",
      "---  ------      --------------  ----- \n",
      " 0   concept_id  6195 non-null   int64 \n",
      " 1   np_name     6195 non-null   object\n",
      "dtypes: int64(1), object(1)\n",
      "memory usage: 96.9+ KB\n"
     ]
    }
   ],
   "source": [
    "dfnp = pd.read_csv('data/np_names_clean_202201201810.csv')\n",
    "dfnp.info()"
   ]
  }
 ],
 "metadata": {
  "kernelspec": {
   "display_name": "Python 3 (ipykernel)",
   "language": "python",
   "name": "python3"
  },
  "language_info": {
   "codemirror_mode": {
    "name": "ipython",
    "version": 3
   },
   "file_extension": ".py",
   "mimetype": "text/x-python",
   "name": "python",
   "nbconvert_exporter": "python",
   "pygments_lexer": "ipython3",
   "version": "3.8.0"
  }
 },
 "nbformat": 4,
 "nbformat_minor": 5
}
